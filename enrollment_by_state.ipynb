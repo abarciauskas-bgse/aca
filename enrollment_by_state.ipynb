{
 "cells": [
  {
   "cell_type": "code",
   "execution_count": 1,
   "metadata": {
    "collapsed": false
   },
   "outputs": [],
   "source": [
    "import pandas as pd\n",
    "import numpy as np\n",
    "import matplotlib.pyplot as plt\n",
    "\n",
    "df = pd.read_csv('raw_data.csv')"
   ]
  },
  {
   "cell_type": "code",
   "execution_count": 2,
   "metadata": {
    "collapsed": false
   },
   "outputs": [
    {
     "data": {
      "text/plain": [
       "Index(['Location', 'Marketplace Type',\n",
       "       'Total Number of Individuals Determined Eligible to Enroll in a Marketplace Plan',\n",
       "       'Number of Individuals Eligible to Enroll in a Marketplace Plan with Financial Assistance',\n",
       "       'Determined or Assessed Eligible for Medicaid/CHIP by the Marketplace',\n",
       "       'Number of Individuals Who Have Selected a Marketplace Plan'],\n",
       "      dtype='object')"
      ]
     },
     "execution_count": 2,
     "metadata": {},
     "output_type": "execute_result"
    }
   ],
   "source": [
    "df.columns"
   ]
  },
  {
   "cell_type": "code",
   "execution_count": 3,
   "metadata": {
    "collapsed": true
   },
   "outputs": [],
   "source": [
    "df['raw_prop_enrolled'] = df['Number of Individuals Who Have Selected a Marketplace Plan']/df['Total Number of Individuals Determined Eligible to Enroll in a Marketplace Plan']"
   ]
  },
  {
   "cell_type": "code",
   "execution_count": 4,
   "metadata": {
    "collapsed": false
   },
   "outputs": [
    {
     "data": {
      "text/html": [
       "<div>\n",
       "<table border=\"1\" class=\"dataframe\">\n",
       "  <thead>\n",
       "    <tr style=\"text-align: right;\">\n",
       "      <th></th>\n",
       "      <th>Location</th>\n",
       "      <th>Marketplace Type</th>\n",
       "      <th>Total Number of Individuals Determined Eligible to Enroll in a Marketplace Plan</th>\n",
       "      <th>Number of Individuals Eligible to Enroll in a Marketplace Plan with Financial Assistance</th>\n",
       "      <th>Determined or Assessed Eligible for Medicaid/CHIP by the Marketplace</th>\n",
       "      <th>Number of Individuals Who Have Selected a Marketplace Plan</th>\n",
       "      <th>raw_prop_enrolled</th>\n",
       "    </tr>\n",
       "  </thead>\n",
       "  <tbody>\n",
       "    <tr>\n",
       "      <th>1</th>\n",
       "      <td>Alabama</td>\n",
       "      <td>FFM</td>\n",
       "      <td>251875</td>\n",
       "      <td>192623</td>\n",
       "      <td>8542</td>\n",
       "      <td>195055</td>\n",
       "      <td>0.774412</td>\n",
       "    </tr>\n",
       "    <tr>\n",
       "      <th>2</th>\n",
       "      <td>Alaska</td>\n",
       "      <td>FFM</td>\n",
       "      <td>26682</td>\n",
       "      <td>21820</td>\n",
       "      <td>4249</td>\n",
       "      <td>23029</td>\n",
       "      <td>0.863091</td>\n",
       "    </tr>\n",
       "    <tr>\n",
       "      <th>3</th>\n",
       "      <td>Arizona</td>\n",
       "      <td>FFM</td>\n",
       "      <td>245739</td>\n",
       "      <td>184377</td>\n",
       "      <td>40644</td>\n",
       "      <td>203066</td>\n",
       "      <td>0.826348</td>\n",
       "    </tr>\n",
       "    <tr>\n",
       "      <th>4</th>\n",
       "      <td>Arkansas</td>\n",
       "      <td>FFM</td>\n",
       "      <td>88605</td>\n",
       "      <td>72700</td>\n",
       "      <td>19352</td>\n",
       "      <td>73648</td>\n",
       "      <td>0.831195</td>\n",
       "    </tr>\n",
       "    <tr>\n",
       "      <th>5</th>\n",
       "      <td>California</td>\n",
       "      <td>SBM</td>\n",
       "      <td>1974209</td>\n",
       "      <td>1639675</td>\n",
       "      <td>843919</td>\n",
       "      <td>1575340</td>\n",
       "      <td>0.797960</td>\n",
       "    </tr>\n",
       "    <tr>\n",
       "      <th>6</th>\n",
       "      <td>Colorado</td>\n",
       "      <td>SBM</td>\n",
       "      <td>264272</td>\n",
       "      <td>104394</td>\n",
       "      <td>58026</td>\n",
       "      <td>150769</td>\n",
       "      <td>0.570507</td>\n",
       "    </tr>\n",
       "    <tr>\n",
       "      <th>7</th>\n",
       "      <td>Connecticut</td>\n",
       "      <td>SBM</td>\n",
       "      <td>154237</td>\n",
       "      <td>115225</td>\n",
       "      <td>304558</td>\n",
       "      <td>116019</td>\n",
       "      <td>0.752213</td>\n",
       "    </tr>\n",
       "    <tr>\n",
       "      <th>8</th>\n",
       "      <td>Delaware</td>\n",
       "      <td>FFM</td>\n",
       "      <td>33017</td>\n",
       "      <td>25694</td>\n",
       "      <td>6045</td>\n",
       "      <td>28256</td>\n",
       "      <td>0.855802</td>\n",
       "    </tr>\n",
       "    <tr>\n",
       "      <th>10</th>\n",
       "      <td>Florida</td>\n",
       "      <td>FFM</td>\n",
       "      <td>2068686</td>\n",
       "      <td>1755063</td>\n",
       "      <td>103869</td>\n",
       "      <td>1742819</td>\n",
       "      <td>0.842476</td>\n",
       "    </tr>\n",
       "    <tr>\n",
       "      <th>11</th>\n",
       "      <td>Georgia</td>\n",
       "      <td>FFM</td>\n",
       "      <td>724847</td>\n",
       "      <td>563430</td>\n",
       "      <td>56128</td>\n",
       "      <td>587845</td>\n",
       "      <td>0.810992</td>\n",
       "    </tr>\n",
       "  </tbody>\n",
       "</table>\n",
       "</div>"
      ],
      "text/plain": [
       "       Location Marketplace Type  \\\n",
       "1       Alabama              FFM   \n",
       "2        Alaska              FFM   \n",
       "3       Arizona              FFM   \n",
       "4      Arkansas              FFM   \n",
       "5    California              SBM   \n",
       "6      Colorado              SBM   \n",
       "7   Connecticut              SBM   \n",
       "8      Delaware              FFM   \n",
       "10      Florida              FFM   \n",
       "11      Georgia              FFM   \n",
       "\n",
       "    Total Number of Individuals Determined Eligible to Enroll in a Marketplace Plan  \\\n",
       "1                                              251875                                 \n",
       "2                                               26682                                 \n",
       "3                                              245739                                 \n",
       "4                                               88605                                 \n",
       "5                                             1974209                                 \n",
       "6                                              264272                                 \n",
       "7                                              154237                                 \n",
       "8                                               33017                                 \n",
       "10                                            2068686                                 \n",
       "11                                             724847                                 \n",
       "\n",
       "    Number of Individuals Eligible to Enroll in a Marketplace Plan with Financial Assistance  \\\n",
       "1                                              192623                                          \n",
       "2                                               21820                                          \n",
       "3                                              184377                                          \n",
       "4                                               72700                                          \n",
       "5                                             1639675                                          \n",
       "6                                              104394                                          \n",
       "7                                              115225                                          \n",
       "8                                               25694                                          \n",
       "10                                            1755063                                          \n",
       "11                                             563430                                          \n",
       "\n",
       "    Determined or Assessed Eligible for Medicaid/CHIP by the Marketplace  \\\n",
       "1                                                8542                      \n",
       "2                                                4249                      \n",
       "3                                               40644                      \n",
       "4                                               19352                      \n",
       "5                                              843919                      \n",
       "6                                               58026                      \n",
       "7                                              304558                      \n",
       "8                                                6045                      \n",
       "10                                             103869                      \n",
       "11                                              56128                      \n",
       "\n",
       "    Number of Individuals Who Have Selected a Marketplace Plan  \\\n",
       "1                                              195055            \n",
       "2                                               23029            \n",
       "3                                              203066            \n",
       "4                                               73648            \n",
       "5                                             1575340            \n",
       "6                                              150769            \n",
       "7                                              116019            \n",
       "8                                               28256            \n",
       "10                                            1742819            \n",
       "11                                             587845            \n",
       "\n",
       "    raw_prop_enrolled  \n",
       "1            0.774412  \n",
       "2            0.863091  \n",
       "3            0.826348  \n",
       "4            0.831195  \n",
       "5            0.797960  \n",
       "6            0.570507  \n",
       "7            0.752213  \n",
       "8            0.855802  \n",
       "10           0.842476  \n",
       "11           0.810992  "
      ]
     },
     "execution_count": 4,
     "metadata": {},
     "output_type": "execute_result"
    }
   ],
   "source": [
    "df_filtered = df[df['Location'] != \"United States\"]\n",
    "df_filtered = df_filtered[df_filtered['Location'] != 'District of Columbia']\n",
    "df_filtered[:10]"
   ]
  },
  {
   "cell_type": "code",
   "execution_count": 5,
   "metadata": {
    "collapsed": false
   },
   "outputs": [
    {
     "data": {
      "text/plain": [
       "(12, 7)"
      ]
     },
     "execution_count": 5,
     "metadata": {},
     "output_type": "execute_result"
    }
   ],
   "source": [
    "sbm_states = df_filtered[df_filtered['Marketplace Type'] == 'SBM']\n",
    "sbm_states.shape"
   ]
  },
  {
   "cell_type": "code",
   "execution_count": 6,
   "metadata": {
    "collapsed": false
   },
   "outputs": [
    {
     "data": {
      "text/plain": [
       "(34, 7)"
      ]
     },
     "execution_count": 6,
     "metadata": {},
     "output_type": "execute_result"
    }
   ],
   "source": [
    "ffm_states = df_filtered[df_filtered['Marketplace Type'] == 'FFM']\n",
    "ffm_states.shape"
   ]
  },
  {
   "cell_type": "code",
   "execution_count": 17,
   "metadata": {
    "collapsed": false
   },
   "outputs": [
    {
     "name": "stdout",
     "output_type": "stream",
     "text": [
      "0.641819092802\n",
      "0.160453485972\n"
     ]
    },
    {
     "data": {
      "image/png": "[encoded data removed]",
      "text/plain": [
       "<matplotlib.figure.Figure at 0x10beaf4e0>"
      ]
     },
     "metadata": {},
     "output_type": "display_data"
    }
   ],
   "source": [
    "%matplotlib inline\n",
    "import matplotlib.pyplot as plt\n",
    "\n",
    "enrollment_sbm = sbm_states['raw_prop_enrolled']\n",
    "print(np.mean(enrollment_sbm))\n",
    "print(np.std(enrollment_sbm))\n",
    "\n",
    "plt.hist(enrollment_sbm)\n",
    "plt.show()"
   ]
  },
  {
   "cell_type": "code",
   "execution_count": 16,
   "metadata": {
    "collapsed": false
   },
   "outputs": [
    {
     "name": "stdout",
     "output_type": "stream",
     "text": [
      "0.834560783652\n",
      "0.0339194502476\n"
     ]
    },
    {
     "data": {
      "image/png": "[encoded data removed]",
      "text/plain": [
       "<matplotlib.figure.Figure at 0x10bea6390>"
      ]
     },
     "metadata": {},
     "output_type": "display_data"
    }
   ],
   "source": [
    "%matplotlib inline\n",
    "import matplotlib.pyplot as plt\n",
    "\n",
    "enrollment_ffm = ffm_states['raw_prop_enrolled']\n",
    "print(np.mean(enrollment_ffm))\n",
    "print(np.std(enrollment_ffm))\n",
    "        \n",
    "plt.hist(enrollment_ffm)\n",
    "plt.show()"
   ]
  },
  {
   "cell_type": "code",
   "execution_count": null,
   "metadata": {
    "collapsed": true
   },
   "outputs": [],
   "source": []
  },
  {
   "cell_type": "markdown",
   "metadata": {},
   "source": [
    "## RAW CSV\n",
    "\n",
    "### Source\n",
    "\n",
    "http://kff.org/health-reform/state-indicator/state-marketplace-statistics\n",
    "\n",
    "### Notes\n",
    "\"Unless otherwise noted, the data in this table represent cumulative Marketplace enrollment-related activity for 11-1-15 to 2-1-16. These data also do not include any enrollment-related activity relating to individuals who may have applied for and/or selected a 2015 Marketplace plan during the reporting period, as a result of having been eligible for a Special Enrollment Period (SEP). This table only reflects data for the individual market Marketplaces. For additional technical notes, please refer to Appendix E of the [data source](https://aspe.hhs.gov/sites/default/files/pdf/188026/MarketPlaceAddendumFinal2016.pdf).\"\n",
    "\"\"\n",
    "\"Federally-facilitated Marketplace (FFM) states are using the HealthCare.gov Eligibility and Enrollment Platform. States with State-Based Marketplaces (SBMs) are using thier own state Marketplace Platforms. Hawaii, Nevada, New Mexico, and Oregon are using the HealthCare.gov eligibility and enrollment platform for 2016. \"\n",
    "\"\"\n",
    "\"Some numbers may not sum to totals due to rounding.\"\n",
    "\n",
    "\"Sources\"\n",
    "\"[Addendum to the Health Insurance Marketplaces 2016 Open Enrollment Period:Final Enrollment Report for the period November 1, 2015 - February 1, 2016](https://aspe.hhs.gov/sites/default/files/pdf/188026/MarketPlaceAddendumFinal2016.pdf), Office of the Assistant Secretary for Planning and Evaluation (ASPE), Department of Health and Human Services (HHS), March 11, 2016.\"\n",
    "\n",
    "\"Definitions\"\n",
    "\"*Total Number of Individuals Determined Eligible to Enroll in a Marketplace Plan* represents the represents the total number of individuals for whom a Completed Application has been received for the 2016 plan year (including any individuals with active 2015 Marketplace enrollments who returned to the Marketplaces and updated their information), and who are determined to be eligible for plan enrollment through the Marketplaces during the reference period, regardless of whether they qualify for advance payments of the premium tax credit or cost-sharing reductions. These individuals may or may not have enrolled in coverage by the end of the reference period. Individuals who have been determined or assessed eligible for Medicaid or CHIP are not included. \"\n",
    "\"\"\n",
    "\"Note: This number only includes data for individuals who applied for 2016 Marketplace coverage in completed applications. It does not include individuals who were automatically reenrolled. Thus, the number determined eligible for 2016 Coverage may be lower than the total number of 2015 plan selections (which includes reenrollees).\"\n",
    "\"\"\n",
    "\"*Number of Individuals Eligible to Enroll in a Marketplace Plan with Financial Assistance* represents the total number of individuals determined eligible to enroll through the Marketplace in a Marketplace plan who qualify for an advance premium tax credit (APTC), with or without a cost-sharing reduction (CSR) for the 2016 plan year (including any individuals with active 2015 Marketplace enrollments who returned to the Marketplace and updated their information). These individuals may or may not have enrolled in coverage by the end of the reference period. Note: This number only includes data for individuals who applied for 2016 Marketplace coverage in completed applications. It does not include individuals who were automatically reenrolled. Thus, the number determined eligible for 2016 Coverage may be lower than the total number of 2015 plan selections with financial assistance (which includes automatic reenrollees).\"\n",
    "\"\"\n",
    "\"*Determined or Assessed Eligible for Medicaid/CHIP by the Marketplace* represents the number of individuals who have been determined or assessed by the Marketplace as eligible for Medicaid or CHIP based on their modified adjusted gross income (MAGI). In some states, completed applications for individuals, whom the Marketplace has assessed as potentially eligible for Medicaid or CHIP, based on MAGI, are transferred to the relevant state agency for a final eligibility determination. In these \"\"assessment states\"\" the data include those accounts where a final decision is pending. In other states, the Marketplace has been delegated the final Medicaid/CHIP eligibility determination responsibility for these individuals. Thus, this data element includes FFM determinations and assessments, regardless of the state Medicaid/CHIP agency’s final eligibility determination, if applicable. These data may vary from accounts transferred via \"\"flat file\"\" to states by the FFM. Quality assurance continues on Medicaid assessments and determinations. \"\n",
    "\"\"\n",
    "\"Note: Marketplace Medicaid/CHIP eligibility determination and assessment data in this report cannot be added to eligibility determination data in the most recent monthly Medicaid and CHIP Applications, Eligibility Determinations, and Enrollment report (available on Medicaid.gov) which covers data through October 2015. In the\"\n",
    "\" Marketplaces, some of the individuals assessed or determined eligible for Medicaid or CHIP by the Marketplace and reported in this report may also be reported in the monthly Medicaid and CHIP Applications, Eligibility Determinations, and Enrollment Report when the state has made an eligibility determination based on the information provided by the Marketplace. Total Medicaid/CHIP enrollment is reported in the monthly Medicaid and CHIP Applications, Eligibility Determinations, and Enrollment Report, and is a point-in-time count of total enrollment in the Medicaid and CHIP programs at the end of the monthly reporting period.\"\n",
    "\"\"\n",
    "\"*Number of Individuals Who Have Selected a Marketplace Plan* represents the total number of individuals determined eligible to enroll in a plan through the Marketplace who have selected or have been automatically reenrolled into a 2016 Marketplace medical plan (with or without the first premium payment having been received directly by the issuer) during the reference period. This is also known as pre-effectuated enrollment, because enrollment is not considered effectuated until the first premium payment is made, and this data includes plan selections for which enrollment has not yet been effectuated. Individuals who have cancelled or terminated their Marketplace plans are not included in the total number of plan selections. These data also do not include: stand-alone dental plan selections; or individuals who may have selected a 2015 Marketplace plan during the reporting period, as a result of having been eligible for a Special Enrollment Period (SEP).\""
   ]
  }
 ],
 "metadata": {
  "kernelspec": {
   "display_name": "Python 3",
   "language": "python",
   "name": "python3"
  },
  "language_info": {
   "codemirror_mode": {
    "name": "ipython",
    "version": 3
   },
   "file_extension": ".py",
   "mimetype": "text/x-python",
   "name": "python",
   "nbconvert_exporter": "python",
   "pygments_lexer": "ipython3",
   "version": "3.5.1"
  }
 },
 "nbformat": 4,
 "nbformat_minor": 0
}
